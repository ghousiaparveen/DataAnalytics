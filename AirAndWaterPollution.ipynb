{
 "cells": [
  {
   "cell_type": "code",
   "execution_count": 1,
   "id": "c3a543d5-b81a-4ab2-84a2-2356819c7cc7",
   "metadata": {},
   "outputs": [],
   "source": [
    "import pandas as pd\n",
    "import numpy as np\n",
    "import matplotlib.pyplot as plt\n",
    "import seaborn as sns\n",
    "from scipy import stats\n"
   ]
  },
  {
   "cell_type": "code",
   "execution_count": 21,
   "id": "98c37bba-d665-4077-9a62-ac94244e2802",
   "metadata": {},
   "outputs": [],
   "source": [
    "df = pd.read_csv(\"cities_air_quality_water_pollution.csv\")"
   ]
  },
  {
   "cell_type": "code",
   "execution_count": 23,
   "id": "07aadccf-328f-4b47-a069-35d18afdd71b",
   "metadata": {},
   "outputs": [
    {
     "data": {
      "text/html": [
       "<div>\n",
       "<style scoped>\n",
       "    .dataframe tbody tr th:only-of-type {\n",
       "        vertical-align: middle;\n",
       "    }\n",
       "\n",
       "    .dataframe tbody tr th {\n",
       "        vertical-align: top;\n",
       "    }\n",
       "\n",
       "    .dataframe thead th {\n",
       "        text-align: right;\n",
       "    }\n",
       "</style>\n",
       "<table border=\"1\" class=\"dataframe\">\n",
       "  <thead>\n",
       "    <tr style=\"text-align: right;\">\n",
       "      <th></th>\n",
       "      <th>City</th>\n",
       "      <th>\"Region\"</th>\n",
       "      <th>\"Country\"</th>\n",
       "      <th>\"AirQuality\"</th>\n",
       "      <th>\"WaterPollution\"</th>\n",
       "    </tr>\n",
       "  </thead>\n",
       "  <tbody>\n",
       "    <tr>\n",
       "      <th>0</th>\n",
       "      <td>New York City</td>\n",
       "      <td>\"New York\"</td>\n",
       "      <td>\"United States of America\"</td>\n",
       "      <td>46.816038</td>\n",
       "      <td>49.504950</td>\n",
       "    </tr>\n",
       "    <tr>\n",
       "      <th>1</th>\n",
       "      <td>Washington, D.C.</td>\n",
       "      <td>\"District of Columbia\"</td>\n",
       "      <td>\"United States of America\"</td>\n",
       "      <td>66.129032</td>\n",
       "      <td>49.107143</td>\n",
       "    </tr>\n",
       "    <tr>\n",
       "      <th>2</th>\n",
       "      <td>San Francisco</td>\n",
       "      <td>\"California\"</td>\n",
       "      <td>\"United States of America\"</td>\n",
       "      <td>60.514019</td>\n",
       "      <td>43.000000</td>\n",
       "    </tr>\n",
       "    <tr>\n",
       "      <th>3</th>\n",
       "      <td>Berlin</td>\n",
       "      <td>\"\"</td>\n",
       "      <td>\"Germany\"</td>\n",
       "      <td>62.364130</td>\n",
       "      <td>28.612717</td>\n",
       "    </tr>\n",
       "    <tr>\n",
       "      <th>4</th>\n",
       "      <td>Los Angeles</td>\n",
       "      <td>\"California\"</td>\n",
       "      <td>\"United States of America\"</td>\n",
       "      <td>36.621622</td>\n",
       "      <td>61.299435</td>\n",
       "    </tr>\n",
       "  </tbody>\n",
       "</table>\n",
       "</div>"
      ],
      "text/plain": [
       "               City                 \"Region\"                    \"Country\"  \\\n",
       "0     New York City               \"New York\"   \"United States of America\"   \n",
       "1  Washington, D.C.   \"District of Columbia\"   \"United States of America\"   \n",
       "2     San Francisco             \"California\"   \"United States of America\"   \n",
       "3            Berlin                       \"\"                    \"Germany\"   \n",
       "4       Los Angeles             \"California\"   \"United States of America\"   \n",
       "\n",
       "    \"AirQuality\"   \"WaterPollution\"  \n",
       "0      46.816038          49.504950  \n",
       "1      66.129032          49.107143  \n",
       "2      60.514019          43.000000  \n",
       "3      62.364130          28.612717  \n",
       "4      36.621622          61.299435  "
      ]
     },
     "execution_count": 23,
     "metadata": {},
     "output_type": "execute_result"
    }
   ],
   "source": [
    "df.head()"
   ]
  },
  {
   "cell_type": "code",
   "execution_count": null,
   "id": "be1738e1-28fa-4f6d-9435-8ec3733023cb",
   "metadata": {},
   "outputs": [],
   "source": []
  }
 ],
 "metadata": {
  "kernelspec": {
   "display_name": "Python 3 (ipykernel)",
   "language": "python",
   "name": "python3"
  },
  "language_info": {
   "codemirror_mode": {
    "name": "ipython",
    "version": 3
   },
   "file_extension": ".py",
   "mimetype": "text/x-python",
   "name": "python",
   "nbconvert_exporter": "python",
   "pygments_lexer": "ipython3",
   "version": "3.11.7"
  }
 },
 "nbformat": 4,
 "nbformat_minor": 5
}
