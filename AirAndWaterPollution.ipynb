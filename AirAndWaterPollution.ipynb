{
 "cells": [
  {
   "cell_type": "code",
   "execution_count": 1,
   "id": "c3a543d5-b81a-4ab2-84a2-2356819c7cc7",
   "metadata": {},
   "outputs": [],
   "source": [
    "import pandas as pd\n",
    "import numpy as np\n",
    "import matplotlib.pyplot as plt\n",
    "import seaborn as sns\n",
    "from scipy import stats\n"
   ]
  },
  {
   "cell_type": "code",
   "execution_count": 21,
   "id": "98c37bba-d665-4077-9a62-ac94244e2802",
   "metadata": {},
   "outputs": [],
   "source": [
    "df = pd.read_csv(\"cities_air_quality_water_pollution.csv\")"
   ]
  },
  {
   "cell_type": "code",
   "execution_count": null,
   "id": "07aadccf-328f-4b47-a069-35d18afdd71b",
   "metadata": {},
   "outputs": [],
   "source": [
    "df"
   ]
  }
 ],
 "metadata": {
  "kernelspec": {
   "display_name": "Python 3 (ipykernel)",
   "language": "python",
   "name": "python3"
  },
  "language_info": {
   "codemirror_mode": {
    "name": "ipython",
    "version": 3
   },
   "file_extension": ".py",
   "mimetype": "text/x-python",
   "name": "python",
   "nbconvert_exporter": "python",
   "pygments_lexer": "ipython3",
   "version": "3.11.7"
  }
 },
 "nbformat": 4,
 "nbformat_minor": 5
}
